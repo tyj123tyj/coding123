{
  "nbformat": 4,
  "nbformat_minor": 0,
  "metadata": {
    "colab": {
      "provenance": []
    },
    "kernelspec": {
      "name": "python3",
      "display_name": "Python 3"
    },
    "language_info": {
      "name": "python"
    }
  },
  "cells": [
    {
      "cell_type": "code",
      "execution_count": null,
      "metadata": {
        "colab": {
          "base_uri": "https://localhost:8080/"
        },
        "id": "4a902BzJdsSU",
        "outputId": "ddf3c795-93ba-464c-92b2-1cbea1f196da"
      },
      "outputs": [
        {
          "output_type": "stream",
          "name": "stdout",
          "text": [
            "Ans is= 495\n"
          ]
        }
      ],
      "source": [
        "x=2\n",
        "y=1\n",
        "a=2*x+y\n",
        "b=100-y\n",
        "z=a*b\n",
        "print(\"Ans is=\",z)"
      ]
    },
    {
      "cell_type": "code",
      "source": [
        "y=4\n",
        "d=2*y+1\n",
        "e=100/d\n",
        "print(\"Ans is=\",e)"
      ],
      "metadata": {
        "colab": {
          "base_uri": "https://localhost:8080/"
        },
        "id": "b0Ln64EUeyJa",
        "outputId": "2db495c8-9906-4e18-aa2c-650e57f941cb"
      },
      "execution_count": null,
      "outputs": [
        {
          "output_type": "stream",
          "name": "stdout",
          "text": [
            "Ans is= 11.11111111111111\n"
          ]
        }
      ]
    }
  ]
}