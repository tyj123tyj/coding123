{
  "nbformat": 4,
  "nbformat_minor": 0,
  "metadata": {
    "colab": {
      "provenance": [],
      "authorship_tag": "ABX9TyNVaQH3xbQ9py2rgYCdh4Z3",
      "include_colab_link": true
    },
    "kernelspec": {
      "name": "python3",
      "display_name": "Python 3"
    },
    "language_info": {
      "name": "python"
    }
  },
  "cells": [
    {
      "cell_type": "markdown",
      "metadata": {
        "id": "view-in-github",
        "colab_type": "text"
      },
      "source": [
        "<a href=\"https://colab.research.google.com/github/tyj123tyj/coding123/blob/main/B1202056_HW3.ipynb\" target=\"_parent\"><img src=\"https://colab.research.google.com/assets/colab-badge.svg\" alt=\"Open In Colab\"/></a>"
      ]
    },
    {
      "cell_type": "code",
      "execution_count": null,
      "metadata": {
        "colab": {
          "base_uri": "https://localhost:8080/"
        },
        "id": "0jdGv30GWq0r",
        "outputId": "554ccbc7-e770-40d9-9426-9744e70ea3ae"
      },
      "outputs": [
        {
          "output_type": "stream",
          "name": "stdout",
          "text": [
            "請輸入年分:2024\n",
            "閏年\n"
          ]
        }
      ],
      "source": [
        "y=int(input('請輸入年分:'))\n",
        "if y<=1852:\n",
        "  if y%4==0:\n",
        "    print('閏年')\n",
        "  else:\n",
        "    print('平年')\n",
        "elif y>1852:\n",
        "  if y%4==0:\n",
        "    if y%100==0:\n",
        "      if y%400==0:\n",
        "        print('閏年')\n",
        "      else:\n",
        "        print('平年')\n",
        "    else:\n",
        "      print('閏年')\n",
        "  else:\n",
        "    print('平年')"
      ]
    },
    {
      "cell_type": "code",
      "source": [],
      "metadata": {
        "id": "axr4Lb-ma3ph"
      },
      "execution_count": null,
      "outputs": []
    }
  ]
}