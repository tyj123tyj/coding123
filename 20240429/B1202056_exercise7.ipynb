{
  "nbformat": 4,
  "nbformat_minor": 0,
  "metadata": {
    "colab": {
      "provenance": []
    },
    "kernelspec": {
      "name": "python3",
      "display_name": "Python 3"
    },
    "language_info": {
      "name": "python"
    }
  },
  "cells": [
    {
      "cell_type": "code",
      "execution_count": null,
      "metadata": {
        "colab": {
          "base_uri": "https://localhost:8080/"
        },
        "id": "dlo-oyVttn-h",
        "outputId": "c50844d2-4ca4-4867-a4ab-53821c8e7400"
      },
      "outputs": [
        {
          "output_type": "stream",
          "name": "stdout",
          "text": [
            "請輸入層數19\n",
            "             *\n",
            "            ***\n",
            "           *****\n",
            "          *******\n",
            "         *********\n",
            "        ***********\n",
            "       *************\n",
            "      ***************\n",
            "     *****************\n",
            "    *******************\n",
            "   *********************\n",
            "  ***********************\n",
            " *************************\n",
            "***************************\n",
            "            ***\n",
            "            ***\n",
            "            ***\n",
            "            ***\n",
            "            ***\n"
          ]
        }
      ],
      "source": [
        "\n",
        "def tree(x):\n",
        "  y=x-5\n",
        "  a='*'\n",
        "  for i in range(1,y+1):\n",
        "    leaf=(2*i-1)*a\n",
        "    blank=(y-i)*' '\n",
        "    print(f'{blank}{leaf}')\n",
        "  for j in range(1,6):\n",
        "    leaf=3*a\n",
        "    blank=(y-2)*' '\n",
        "    print(f'{blank}{leaf}')\n",
        "\n",
        "x=input('請輸入層數')\n",
        "tree((int(x)))\n"
      ]
    },
    {
      "cell_type": "code",
      "source": [
        "def f(h,w):\n",
        "  try:\n",
        "    h=float(h)\n",
        "    w=float(w)\n",
        "    ans=(w/h**2)*10000\n",
        "    x=f'BMI:{ans}'\n",
        "\n",
        "    if ans<18.5:\n",
        "      d='過輕'\n",
        "    elif ans<24 and ans>=18.5:\n",
        "      d='適中'\n",
        "    elif ans<27 and ans>=24:\n",
        "      d='過重'\n",
        "    elif ans>=27:\n",
        "      d='肥胖'\n",
        "\n",
        "    return x,d\n",
        "  except ValueError:\n",
        "    d=('輸入內容錯誤')\n",
        "    return[d]\n",
        "\n",
        "h=input('請輸入身高(公分)')\n",
        "w=input('請輸入體重(公斤)')\n",
        "for a in f(h,w):\n",
        "  print(a)"
      ],
      "metadata": {
        "colab": {
          "base_uri": "https://localhost:8080/"
        },
        "id": "o_9oCyA10N8D",
        "outputId": "de594481-30fb-42e3-b35a-326d988bb7c8"
      },
      "execution_count": 3,
      "outputs": [
        {
          "output_type": "stream",
          "name": "stdout",
          "text": [
            "請輸入身高(公分)180\n",
            "請輸入體重(公斤)ttt\n",
            "輸入內容錯誤\n"
          ]
        }
      ]
    }
  ]
}