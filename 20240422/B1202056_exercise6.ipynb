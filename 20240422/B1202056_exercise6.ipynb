{
  "cells": [
    {
      "cell_type": "code",
      "execution_count": null,
      "metadata": {
        "colab": {
          "base_uri": "https://localhost:8080/"
        },
        "id": "l2tcN2M3z_f_",
        "outputId": "27f3cb09-b0c2-4f9d-ef13-7eee58441520"
      },
      "outputs": [
        {
          "name": "stdout",
          "output_type": "stream",
          "text": [
            "1 x 1 = 1   2 x 1 = 2   3 x 1 = 3   4 x 1 = 4   5 x 1 = 5   6 x 1 = 6   7 x 1 = 7   8 x 1 = 8   9 x 1 = 9   \n",
            "1 x 2 = 2   2 x 2 = 4   3 x 2 = 6   4 x 2 = 8   5 x 2 = 10  6 x 2 = 12  7 x 2 = 14  8 x 2 = 16  9 x 2 = 18  \n",
            "1 x 3 = 3   2 x 3 = 6   3 x 3 = 9   4 x 3 = 12  5 x 3 = 15  6 x 3 = 18  7 x 3 = 21  8 x 3 = 24  9 x 3 = 27  \n",
            "1 x 4 = 4   2 x 4 = 8   3 x 4 = 12  4 x 4 = 16  5 x 4 = 20  6 x 4 = 24  7 x 4 = 28  8 x 4 = 32  9 x 4 = 36  \n",
            "1 x 5 = 5   2 x 5 = 10  3 x 5 = 15  4 x 5 = 20  5 x 5 = 25  6 x 5 = 30  7 x 5 = 35  8 x 5 = 40  9 x 5 = 45  \n",
            "1 x 6 = 6   2 x 6 = 12  3 x 6 = 18  4 x 6 = 24  5 x 6 = 30  6 x 6 = 36  7 x 6 = 42  8 x 6 = 48  9 x 6 = 54  \n",
            "1 x 7 = 7   2 x 7 = 14  3 x 7 = 21  4 x 7 = 28  5 x 7 = 35  6 x 7 = 42  7 x 7 = 49  8 x 7 = 56  9 x 7 = 63  \n",
            "1 x 8 = 8   2 x 8 = 16  3 x 8 = 24  4 x 8 = 32  5 x 8 = 40  6 x 8 = 48  7 x 8 = 56  8 x 8 = 64  9 x 8 = 72  \n",
            "1 x 9 = 9   2 x 9 = 18  3 x 9 = 27  4 x 9 = 36  5 x 9 = 45  6 x 9 = 54  7 x 9 = 63  8 x 9 = 72  9 x 9 = 81  \n"
          ]
        }
      ],
      "source": [
        "b=1\n",
        "while b<=9:\n",
        "  a=1\n",
        "  while a<=9:\n",
        "    ans=a*b\n",
        "    print(f'{a} x {b} = {ans:<2d}',end='  ')\n",
        "    a=a+1\n",
        "  b=b+1\n",
        "  print()"
      ]
    },
    {
      "cell_type": "code",
      "source": [
        "import random\n",
        "a = random.sample(range(1,10),4)\n",
        "print(a)\n",
        "k = 0\n",
        "b = 0\n",
        "while b != a:\n",
        "  b = list(input('輸入四個數字(不重複)'))\n",
        "  if(len(b) != 4):\n",
        "    print('輸入字數過多，請重輸')\n",
        "    continue\n",
        "  else:\n",
        "    n = A = B = 0\n",
        "    while n <= 3:\n",
        "      if(int(b[n]) == a[n]):\n",
        "        A += 1\n",
        "        n += 1\n",
        "        continue\n",
        "      elif(int(b[n]) in a):\n",
        "        B += 1\n",
        "        n += 1\n",
        "        continue\n",
        "      else:\n",
        "        n += 1\n",
        "\n",
        "    if(A != 4):\n",
        "      print(A,'A',B,'B')\n",
        "      k += 1\n",
        "    else:\n",
        "      print('答對了!總共猜了',k,'次')\n",
        "      break\n",
        "\n",
        ""
      ],
      "metadata": {
        "colab": {
          "base_uri": "https://localhost:8080/"
        },
        "id": "3ETyrWV8nNUL",
        "outputId": "a2482308-b119-4dae-991b-05248e03c784"
      },
      "execution_count": 10,
      "outputs": [
        {
          "output_type": "stream",
          "name": "stdout",
          "text": [
            "[6, 7, 1, 4]\n",
            "輸入四個數字(不重複)12345\n",
            "輸入字數過多，請重輸\n",
            "輸入四個數字(不重複)6589\n",
            "1 A 0 B\n",
            "輸入四個數字(不重複)6748\n",
            "2 A 1 B\n",
            "輸入四個數字(不重複)6718\n",
            "3 A 0 B\n",
            "輸入四個數字(不重複)6874\n",
            "2 A 1 B\n",
            "輸入四個數字(不重複)6714\n",
            "答對了!總共猜了 4 次\n"
          ]
        }
      ]
    }
  ],
  "metadata": {
    "colab": {
      "provenance": []
    },
    "kernelspec": {
      "display_name": "Python 3",
      "name": "python3"
    },
    "language_info": {
      "name": "python"
    }
  },
  "nbformat": 4,
  "nbformat_minor": 0
}