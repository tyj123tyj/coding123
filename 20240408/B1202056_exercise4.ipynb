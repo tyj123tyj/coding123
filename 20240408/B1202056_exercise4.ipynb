{
  "nbformat": 4,
  "nbformat_minor": 0,
  "metadata": {
    "colab": {
      "provenance": []
    },
    "kernelspec": {
      "name": "python3",
      "display_name": "Python 3"
    },
    "language_info": {
      "name": "python"
    }
  },
  "cells": [
    {
      "cell_type": "code",
      "source": [
        "a=float(input('請輸入您的體重(公斤)'))\n",
        "b=float(input('請輸入您的身高(公分)'))\n",
        "c=((a/b**2)*10000)\n",
        "print('BMI:'+str(c))\n",
        "if c<18.5:\n",
        "  print('體位:過輕')\n",
        "elif c>=18.5 and c<24:\n",
        "  print('體位:適中')\n",
        "elif c>=24 and c<27:\n",
        "  print('體位:過重')\n",
        "else:\n",
        "  print('體位:肥胖')"
      ],
      "metadata": {
        "colab": {
          "base_uri": "https://localhost:8080/"
        },
        "id": "wznwrf8NlcLt",
        "outputId": "0e67b454-a713-4537-aca1-9637ec840ce4"
      },
      "execution_count": 15,
      "outputs": [
        {
          "output_type": "stream",
          "name": "stdout",
          "text": [
            "請輸入您的體重(公斤)90\n",
            "請輸入您的身高(公分)120\n",
            "BMI:62.5\n",
            "體位:肥胖\n"
          ]
        }
      ]
    },
    {
      "cell_type": "code",
      "execution_count": 6,
      "metadata": {
        "colab": {
          "base_uri": "https://localhost:8080/"
        },
        "id": "XAmQG-s2jgEJ",
        "outputId": "f479f0f3-7b95-4a23-c862-4368bee35e87"
      },
      "outputs": [
        {
          "output_type": "stream",
          "name": "stdout",
          "text": [
            "請輸入第一個數字:3\n",
            "請輸入運算符號(+,-,*,/):/\n",
            "請輸入第二個數字:6\n",
            "0.5\n"
          ]
        }
      ],
      "source": [
        "a=input('請輸入第一個數字:')\n",
        "b=input('請輸入運算符號(+,-,*,/):')\n",
        "c=input('請輸入第二個數字:')\n",
        "\n",
        "if b=='+':\n",
        "  print(float(a)+float(c))\n",
        "elif b=='-':\n",
        "  print(float(a)-float(c))\n",
        "elif b=='*':\n",
        "  print(float(a)*float(c))\n",
        "else:\n",
        "  print(float(a)/float(c))\n",
        "\n"
      ]
    }
  ]
}