{
  "nbformat": 4,
  "nbformat_minor": 0,
  "metadata": {
    "colab": {
      "provenance": []
    },
    "kernelspec": {
      "name": "python3",
      "display_name": "Python 3"
    },
    "language_info": {
      "name": "python"
    }
  },
  "cells": [
    {
      "cell_type": "code",
      "execution_count": null,
      "metadata": {
        "colab": {
          "base_uri": "https://localhost:8080/"
        },
        "id": "0jdGv30GWq0r",
        "outputId": "554ccbc7-e770-40d9-9426-9744e70ea3ae"
      },
      "outputs": [
        {
          "output_type": "stream",
          "name": "stdout",
          "text": [
            "請輸入年分:2024\n",
            "閏年\n"
          ]
        }
      ],
      "source": [
        "y=int(input('請輸入年分:'))\n",
        "if y<=1852:\n",
        "  if y%4==0:\n",
        "    print('閏年')\n",
        "  else:\n",
        "    print('平年')\n",
        "elif y>1852:\n",
        "  if y%4==0:\n",
        "    if y%100==0:\n",
        "      if y%400==0:\n",
        "        print('閏年')\n",
        "      else:\n",
        "        print('平年')\n",
        "    else:\n",
        "      print('閏年')\n",
        "  else:\n",
        "    print('平年')"
      ]
    },
    {
      "cell_type": "code",
      "source": [],
      "metadata": {
        "id": "axr4Lb-ma3ph"
      },
      "execution_count": null,
      "outputs": []
    }
  ]
}