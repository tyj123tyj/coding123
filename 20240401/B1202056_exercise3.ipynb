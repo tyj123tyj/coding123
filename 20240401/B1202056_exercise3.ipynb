{
  "nbformat": 4,
  "nbformat_minor": 0,
  "metadata": {
    "colab": {
      "provenance": []
    },
    "kernelspec": {
      "name": "python3",
      "display_name": "Python 3"
    },
    "language_info": {
      "name": "python"
    }
  },
  "cells": [
    {
      "cell_type": "code",
      "execution_count": 18,
      "metadata": {
        "colab": {
          "base_uri": "https://localhost:8080/"
        },
        "id": "QDSOdAKTedp1",
        "outputId": "b5f09f1a-d0a6-478d-f21e-36ddb07c5eff"
      },
      "outputs": [
        {
          "output_type": "stream",
          "name": "stdout",
          "text": [
            "{'姓名': '賴宏偉', '性別': '男', '作業分數': [95, 80, 90], '學號': 'M1129020'}\n",
            "{'姓名': '許珈綺', '性別': '女', '作業分數': [95, 100, 90], '學號': 'M1229001'}\n",
            "88.33333333333333\n",
            "{'姓名': '賴宏偉', '性別': '男', '學號': 'M1129020'}\n",
            "95.0\n",
            "{'姓名': '許珈綺', '性別': '女', '學號': 'M1229001'}\n"
          ]
        }
      ],
      "source": [
        "d1={'姓名':'賴宏偉','性別':'男','作業分數':[95,100,90]}\n",
        "d2={'學號':'M1129020'}\n",
        "\n",
        "d3={**d1,**d2}\n",
        "\n",
        "import copy\n",
        "d4=copy.deepcopy(d3)\n",
        "\n",
        "d3['作業分數'][1]=80\n",
        "d4['姓名']='許珈綺'\n",
        "d4['性別']='女'\n",
        "d4['學號']='M1229001'\n",
        "\n",
        "score3=d3.pop('作業分數')\n",
        "print((score3[0]+score3[1]+score3[2])/3)\n",
        "print(d3)\n",
        "\n",
        "score4=d4.pop('作業分數')\n",
        "print((score4[0]+score4[1]+score4[2])/3)\n",
        "print(d4)\n",
        "g"
      ]
    },
    {
      "cell_type": "code",
      "source": [
        "a=[100,50,45,60,90,95,80,50]\n",
        "a.insert(0,88)\n",
        "a[2:5]=[70,50]\n",
        "\n",
        "a.remove(50)\n",
        "b=a.pop(0)\n",
        "c=a.pop(-1)\n",
        "d=b+c\n",
        "\n",
        "print(d)"
      ],
      "metadata": {
        "colab": {
          "base_uri": "https://localhost:8080/"
        },
        "id": "TKBTvUJnkBEq",
        "outputId": "53cb1880-4ca3-4831-fc43-fa2ec4a63a08"
      },
      "execution_count": 24,
      "outputs": [
        {
          "output_type": "stream",
          "name": "stdout",
          "text": [
            "138\n"
          ]
        }
      ]
    },
    {
      "cell_type": "code",
      "source": [
        "A=347//3\n",
        "B=347%3\n",
        "\n",
        "C=A**B\n",
        "print(C)"
      ],
      "metadata": {
        "colab": {
          "base_uri": "https://localhost:8080/"
        },
        "id": "EkZqEjFFmrrq",
        "outputId": "70fe3207-e849-45d1-e949-297989ae2170"
      },
      "execution_count": 27,
      "outputs": [
        {
          "output_type": "stream",
          "name": "stdout",
          "text": [
            "13225\n"
          ]
        }
      ]
    }
  ]
}