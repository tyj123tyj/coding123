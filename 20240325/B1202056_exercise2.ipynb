{
  "nbformat": 4,
  "nbformat_minor": 0,
  "metadata": {
    "colab": {
      "provenance": []
    },
    "kernelspec": {
      "name": "python3",
      "display_name": "Python 3"
    },
    "language_info": {
      "name": "python"
    }
  },
  "cells": [
    {
      "cell_type": "code",
      "execution_count": 6,
      "metadata": {
        "colab": {
          "base_uri": "https://localhost:8080/"
        },
        "id": "4qx745lWeQO-",
        "outputId": "10a79098-d06b-4e55-e5f6-2c45b2f6a6a2"
      },
      "outputs": [
        {
          "output_type": "stream",
          "name": "stdout",
          "text": [
            "{'姓名': '賴宏瑋', '性別': '男', '作業分數': [100, 100, 90], '學號': 'M1129020'}\n",
            "96.66666666666667\n"
          ]
        }
      ],
      "source": [
        "d={'姓名':'賴宏瑋','性別':'男','作業分數':[80,95,100,90]}\n",
        "d['學號']='M1129020'\n",
        "d['作業分數'][1]=100\n",
        "\n",
        "del d['作業分數'][0]\n",
        "print(d)\n",
        "\n",
        "a=d.pop('作業分數')\n",
        "\n",
        "e=a.pop(0)\n",
        "f=a.pop(0)\n",
        "g=a.pop(0)\n",
        "\n",
        "h=(int(e)+int(f)+int(g))/3\n",
        "print(h)\n",
        "\n",
        "\n"
      ]
    }
  ]
}